{
 "cells": [
  {
   "cell_type": "code",
   "execution_count": 2,
   "id": "1462e794-74d9-48e2-8678-590c0555878b",
   "metadata": {},
   "outputs": [
    {
     "name": "stdin",
     "output_type": "stream",
     "text": [
      " 5 2\n"
     ]
    },
    {
     "name": "stdout",
     "output_type": "stream",
     "text": [
      "Dien tich hcn: 10\n",
      "Chu vi hcn: 14\n"
     ]
    }
   ],
   "source": [
    "#bai 1\n",
    "a, b=map(int,input().split())\n",
    "print(\"Dien tich hcn:\",a*b)\n",
    "print(\"Chu vi hcn:\",2*(a+b))"
   ]
  },
  {
   "cell_type": "code",
   "execution_count": 3,
   "id": "5dc114c4-a6fd-4c89-bc61-8b8fe8e61d39",
   "metadata": {},
   "outputs": [
    {
     "name": "stdin",
     "output_type": "stream",
     "text": [
      " 4\n"
     ]
    },
    {
     "name": "stdout",
     "output_type": "stream",
     "text": [
      "Dien tich: 50.26548245743669\n",
      "Chu vi: 25.132741228718345\n"
     ]
    }
   ],
   "source": [
    "#bai 2\n",
    "import math \n",
    "r=int(input())\n",
    "print(\"Dien tich:\",math.pi*r*r)\n",
    "print(\"Chu vi:\",2*math.pi*r) "
   ]
  },
  {
   "cell_type": "code",
   "execution_count": 9,
   "id": "c99ffa56-b683-43bd-82f4-294f33c8d7c9",
   "metadata": {},
   "outputs": [
    {
     "name": "stdin",
     "output_type": "stream",
     "text": [
      " 3 4 5\n"
     ]
    },
    {
     "name": "stdout",
     "output_type": "stream",
     "text": [
      "Tam giac vuong\n",
      "Dien tich: 6.0\n",
      "Chu vi: 12\n"
     ]
    }
   ],
   "source": [
    "#bai 3\n",
    "a,b, c= map(int,input().split())\n",
    "if a+b>c and a+c>b and b+c>a:\n",
    "    cv=a+b+c\n",
    "    p=cv/2\n",
    "    s=p*(p-a)*(p-b)*(p-c)\n",
    "    if a==b==c :\n",
    "        print(\"Tam giac deu\")\n",
    "    elif a==b or b==c or a==c:\n",
    "        print(\"Tam giac can\")\n",
    "    elif a*a==b*b+c*c or b*b==a*a+c*c or c*c==a*a+b*b:\n",
    "        print(\"Tam giac vuong\")\n",
    "    print(\"Dien tich:\",s**0.5)\n",
    "    print(\"Chu vi:\",cv)\n",
    "else: \n",
    "    print(\"Khong phai tam giac\")"
   ]
  },
  {
   "cell_type": "code",
   "execution_count": 12,
   "id": "d9abaeb5-e005-463c-b7d6-eb8afe8751a3",
   "metadata": {},
   "outputs": [
    {
     "name": "stdin",
     "output_type": "stream",
     "text": [
      "Nhap a,b: 4 5\n"
     ]
    },
    {
     "name": "stdout",
     "output_type": "stream",
     "text": [
      "Phuong trinh co nghiem la: -1.25\n"
     ]
    }
   ],
   "source": [
    "#bai 4\n",
    "a,b = map(int,input(\"Nhap a,b:\").split())\n",
    "\n",
    "if(b==0 and a==0):\n",
    "    print(\"Phuong trinh vo so nghiem\")\n",
    "elif(a==0 and b!=0):\n",
    "    print(\"Phuong trinh vo nghiem\")    \n",
    "else: \n",
    "    print (\"Phuong trinh co nghiem la:\",-b/a) \n"
   ]
  },
  {
   "cell_type": "code",
   "execution_count": 4,
   "id": "11b22bc4-92c0-4445-a09b-9427c0d8ff09",
   "metadata": {},
   "outputs": [
    {
     "name": "stdin",
     "output_type": "stream",
     "text": [
      "Nhap a,b,c: 3 4 -7\n"
     ]
    },
    {
     "name": "stdout",
     "output_type": "stream",
     "text": [
      "Phuong trinh co 2 nghiem phan biet: 1.0 -2.3333333333333335\n"
     ]
    }
   ],
   "source": [
    "#bai 5\n",
    "a, b, c=map(int,input(\"Nhap a,b,c:\").split())\n",
    "delta = b*b - 4*a*c\n",
    "if delta < 0:\n",
    "    print(\"Phuong trinh vo nghiem\")\n",
    "elif delta == 0:\n",
    "    print(\"Phuong trinh co nghiem kep:\",(delta**0.5-b)/(2*a))\n",
    "else:\n",
    "    print(\"Phuong trinh co 2 nghiem phan biet:\",(delta**0.5-b)/(2*a),(-(delta**0.5)-b)/(2*a))"
   ]
  },
  {
   "cell_type": "code",
   "execution_count": 5,
   "id": "9c1df6bc-9a9b-4212-8082-33c69dfc0cf9",
   "metadata": {},
   "outputs": [
    {
     "name": "stdin",
     "output_type": "stream",
     "text": [
      " 1 2 3 4\n"
     ]
    },
    {
     "name": "stdout",
     "output_type": "stream",
     "text": [
      "4\n"
     ]
    }
   ],
   "source": [
    "#bai 6\n",
    "a, b, c, d =map(int, input().split())\n",
    "print(max(max(a,b),max(c,d)))"
   ]
  },
  {
   "cell_type": "code",
   "execution_count": 6,
   "id": "b36d5e98-8fe8-4355-ac7a-db0ef048ecf3",
   "metadata": {},
   "outputs": [
    {
     "name": "stdin",
     "output_type": "stream",
     "text": [
      " 1 2 3 4\n"
     ]
    },
    {
     "name": "stdout",
     "output_type": "stream",
     "text": [
      "4\n"
     ]
    }
   ],
   "source": [
    "#bai 6 cach 2\n",
    "lst = list(map(int,input().split()))\n",
    "print(max(lst))"
   ]
  },
  {
   "cell_type": "code",
   "execution_count": 7,
   "id": "9d7f5990-a52a-4bf0-a0f1-364b360f6463",
   "metadata": {},
   "outputs": [
    {
     "name": "stdin",
     "output_type": "stream",
     "text": [
      " 1 2 5 6\n"
     ]
    },
    {
     "name": "stdout",
     "output_type": "stream",
     "text": [
      "1\n"
     ]
    }
   ],
   "source": [
    "#bai 7\n",
    "a, b, c, d =map(int, input().split())\n",
    "print(min(min(a,b),min(c,d)))"
   ]
  },
  {
   "cell_type": "code",
   "execution_count": 8,
   "id": "97be4a61-8cf9-45d8-bd9c-702774cbf962",
   "metadata": {},
   "outputs": [
    {
     "name": "stdin",
     "output_type": "stream",
     "text": [
      " 1 2 3 4 \n"
     ]
    },
    {
     "name": "stdout",
     "output_type": "stream",
     "text": [
      "1\n"
     ]
    }
   ],
   "source": [
    "#bai 7 cach 2\n",
    "lst = list(map(int,input().split()))\n",
    "print(min(lst))"
   ]
  },
  {
   "cell_type": "code",
   "execution_count": 5,
   "id": "42c0838d-150d-42ad-b27f-7ac100150723",
   "metadata": {},
   "outputs": [
    {
     "name": "stdin",
     "output_type": "stream",
     "text": [
      "Nhap a,b,m: 1 2 3 \n",
      "Nhap c,d,n: 5 5 5 \n"
     ]
    },
    {
     "name": "stdout",
     "output_type": "stream",
     "text": [
      "Nghiem cua he la: x=-1.0,y=2.0\n"
     ]
    }
   ],
   "source": [
    "#bai 8\n",
    "a, b, m = map(int,input(\"Nhap a,b,m:\").split())\n",
    "c, d, n = map(int,input(\"Nhap c,d,n:\").split())\n",
    "k = a\n",
    "a=a*c\n",
    "b=b*c\n",
    "m*=c\n",
    "c*=k\n",
    "d*=k\n",
    "n*=k\n",
    "if b-d == 0:\n",
    "    if m-n==0:\n",
    "        print(\"He phuong trinh tuyen tinh vo so nghiem\")\n",
    "    else:\n",
    "        print(\"He phuong trinh tuyen tinh vo nghiem\")\n",
    "else:\n",
    "    t=(m-n)/(b-d)\n",
    "    print(f\"Nghiem cua he la: x={(m-t*b)/a},y={t}\")\n",
    "        "
   ]
  },
  {
   "cell_type": "code",
   "execution_count": 9,
   "id": "1f74780d-3960-44b4-9276-06108ad51015",
   "metadata": {},
   "outputs": [
    {
     "name": "stdin",
     "output_type": "stream",
     "text": [
      " 34\n"
     ]
    },
    {
     "name": "stdout",
     "output_type": "stream",
     "text": [
      "0 gio, 0 phut, 34 giay\n"
     ]
    }
   ],
   "source": [
    "#bai 9\n",
    "x= int(input())\n",
    "h= x//3600\n",
    "x%=3600\n",
    "m=x//60\n",
    "x%=60\n",
    "print(f\"{h} gio, {m} phut, {x} giay\")"
   ]
  },
  {
   "cell_type": "code",
   "execution_count": 13,
   "id": "3d1de33a-7a09-4e87-9473-559420407670",
   "metadata": {},
   "outputs": [
    {
     "name": "stdin",
     "output_type": "stream",
     "text": [
      "Toa do tam 2 3\n",
      "Ban kinh: 1\n",
      "Toa do diem can xet: 3 4\n"
     ]
    },
    {
     "name": "stdout",
     "output_type": "stream",
     "text": [
      "Khong thuoc duong tron\n"
     ]
    }
   ],
   "source": [
    "#bai 10\n",
    "a,b = map(int,input(\"Toa do tam\").split())\n",
    "r=int(input(\"Ban kinh:\"))\n",
    "x, y =map(int,input(\"Toa do diem can xet:\").split())\n",
    "if (x-a)**2+(y-b)**2<=r**2:\n",
    "      print(\"Thuoc duong tron\")\n",
    "else:\n",
    "      print(\"Khong thuoc duong tron\")"
   ]
  },
  {
   "cell_type": "code",
   "execution_count": 18,
   "id": "25c1df8a-eee6-492e-926d-0ae963f8e13c",
   "metadata": {},
   "outputs": [
    {
     "name": "stdin",
     "output_type": "stream",
     "text": [
      " 3.5 5.8\n"
     ]
    },
    {
     "name": "stdout",
     "output_type": "stream",
     "text": [
      "1430.851810046151\n"
     ]
    }
   ],
   "source": [
    "#bai 11\n",
    "x,y=map(float,input().split())\n",
    "print(x**y)\n"
   ]
  }
 ],
 "metadata": {
  "kernelspec": {
   "display_name": "Python 3 (ipykernel)",
   "language": "python",
   "name": "python3"
  },
  "language_info": {
   "codemirror_mode": {
    "name": "ipython",
    "version": 3
   },
   "file_extension": ".py",
   "mimetype": "text/x-python",
   "name": "python",
   "nbconvert_exporter": "python",
   "pygments_lexer": "ipython3",
   "version": "3.13.7"
  }
 },
 "nbformat": 4,
 "nbformat_minor": 5
}
