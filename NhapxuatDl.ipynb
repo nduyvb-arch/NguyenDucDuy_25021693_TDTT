{
 "cells": [
  {
   "cell_type": "code",
   "execution_count": 1,
   "id": "ba8f8ca0-f757-4d81-b0de-3378971f541e",
   "metadata": {},
   "outputs": [
    {
     "name": "stdout",
     "output_type": "stream",
     "text": [
      "Hello World\n"
     ]
    }
   ],
   "source": [
    "#bai1 \n",
    "print(\"Hello World\")"
   ]
  },
  {
   "cell_type": "code",
   "execution_count": 2,
   "id": "764dc008-a50d-4111-a4ea-ba0a6be8408b",
   "metadata": {},
   "outputs": [
    {
     "name": "stdin",
     "output_type": "stream",
     "text": [
      "Nhap ten cua ban: DUy \n"
     ]
    },
    {
     "name": "stdout",
     "output_type": "stream",
     "text": [
      "Xin chao DUy \n"
     ]
    }
   ],
   "source": [
    "#bai2\n",
    "name =input(\"Nhap ten cua ban:\")\n",
    "print(\"Xin chao\",name)\n"
   ]
  },
  {
   "cell_type": "code",
   "execution_count": 5,
   "id": "72d5c522-41cf-46b5-8c4d-53e87624ec71",
   "metadata": {},
   "outputs": [
    {
     "name": "stdin",
     "output_type": "stream",
     "text": [
      " 10 4\n"
     ]
    },
    {
     "name": "stdout",
     "output_type": "stream",
     "text": [
      "14.00\n",
      "6.00\n",
      "40.00\n",
      "2.50\n",
      "2.00\n",
      "2.00\n"
     ]
    }
   ],
   "source": [
    "#bai3\n",
    "a, b = map(int,input().split())\n",
    "print(f\"{a+b :.2f}\")\n",
    "print(f\"{a-b :.2f}\")\n",
    "print(f\"{a*b :.2f}\")\n",
    "print(f\"{a/b :.2f}\")\n",
    "print(f\"{a%b :.2f}\")\n",
    "print(f\"{a//b :.2f}\")"
   ]
  },
  {
   "cell_type": "code",
   "execution_count": 8,
   "id": "8a52e874-390c-41ee-8615-a0482298e2d6",
   "metadata": {},
   "outputs": [
    {
     "name": "stdin",
     "output_type": "stream",
     "text": [
      " 9 9 9 9 9 9\n"
     ]
    },
    {
     "name": "stdout",
     "output_type": "stream",
     "text": [
      "9.00\n"
     ]
    }
   ],
   "source": [
    "#bai4\n",
    "a1, b1, c1, a2, b2, a3= map(int,input().split())\n",
    "print(f\"{((a1+b1+c1) + 2*(a2+b2) + 3*a3)/10 :.2f}\")\n"
   ]
  },
  {
   "cell_type": "code",
   "execution_count": 10,
   "id": "a2c8ea0c-6587-4cb8-96e3-5c3a0dc38335",
   "metadata": {},
   "outputs": [
    {
     "name": "stdin",
     "output_type": "stream",
     "text": [
      " 2 3\n"
     ]
    },
    {
     "name": "stdout",
     "output_type": "stream",
     "text": [
      "8\n"
     ]
    }
   ],
   "source": [
    "#bai5\n",
    "a, b= map(int,input().split())\n",
    "print(a**b)\n"
   ]
  },
  {
   "cell_type": "code",
   "execution_count": 22,
   "id": "7a24dbda-fff3-420f-a820-44c78baef5cc",
   "metadata": {},
   "outputs": [
    {
     "name": "stdin",
     "output_type": "stream",
     "text": [
      " a\n"
     ]
    },
    {
     "name": "stdout",
     "output_type": "stream",
     "text": [
      "97\n",
      "A\n"
     ]
    }
   ],
   "source": [
    "#bai 6\n",
    "c = input()\n",
    "print(ord(c))\n",
    "print(c.upper())"
   ]
  },
  {
   "cell_type": "code",
   "execution_count": 14,
   "id": "30bfe557-b536-4eda-add7-d0adc85a7419",
   "metadata": {},
   "outputs": [
    {
     "name": "stdout",
     "output_type": "stream",
     "text": [
      "512 512\n"
     ]
    }
   ],
   "source": [
    "#bai 7\n",
    "A = ((13**2)*3)+5\n",
    "B = 13**2*3 + 5\n",
    "print (A,B)"
   ]
  },
  {
   "cell_type": "code",
   "execution_count": 16,
   "id": "361775b4-9fbb-43c9-b42f-fe6aae0612d5",
   "metadata": {},
   "outputs": [
    {
     "name": "stdin",
     "output_type": "stream",
     "text": [
      " 100\n"
     ]
    },
    {
     "name": "stdout",
     "output_type": "stream",
     "text": [
      "212.00\n"
     ]
    }
   ],
   "source": [
    "#bai 8\n",
    "c = int(input())\n",
    "print (f\"{ 9/5 *c +32 :.2f}\")\n"
   ]
  },
  {
   "cell_type": "code",
   "execution_count": 21,
   "id": "ad7bba13-a1af-46d5-afa1-e38c4c01540f",
   "metadata": {},
   "outputs": [
    {
     "name": "stdin",
     "output_type": "stream",
     "text": [
      " 100\n"
     ]
    },
    {
     "name": "stdout",
     "output_type": "stream",
     "text": [
      "150.00\n"
     ]
    }
   ],
   "source": [
    "#bai 9\n",
    "c = int(input())\n",
    "print(f\"{c*14/10 +10 :.2f}\")"
   ]
  },
  {
   "cell_type": "code",
   "execution_count": null,
   "id": "db49471b-e7e0-490a-a7a6-dc916443250d",
   "metadata": {},
   "outputs": [],
   "source": [
    "#bai 10 \n",
    "a,b,c = input().split()\n",
    "print(f\"Hi {c}, {b} and {a}.\")"
   ]
  },
  {
   "cell_type": "code",
   "execution_count": null,
   "id": "30a54835-9b6f-45fb-b98c-21c17f03f319",
   "metadata": {},
   "outputs": [],
   "source": [
    "#bai 11\n",
    "g,p = map(int, input().split())\n",
    "print(g*3600 + p*60)"
   ]
  },
  {
   "cell_type": "code",
   "execution_count": 23,
   "id": "a4dd6968-dae8-4f1a-864f-b2f7a737944f",
   "metadata": {},
   "outputs": [
    {
     "name": "stdin",
     "output_type": "stream",
     "text": [
      " 2\n"
     ]
    },
    {
     "name": "stdout",
     "output_type": "stream",
     "text": [
      "24\n"
     ]
    }
   ],
   "source": [
    "#bai 12\n",
    "n= int(input())\n",
    "print (n**2*6)"
   ]
  },
  {
   "cell_type": "code",
   "execution_count": 30,
   "id": "de80f262-5072-4d20-a80b-847a2697b69e",
   "metadata": {},
   "outputs": [
    {
     "name": "stdin",
     "output_type": "stream",
     "text": [
      " 8 9\n"
     ]
    },
    {
     "name": "stdout",
     "output_type": "stream",
     "text": [
      "2\n"
     ]
    }
   ],
   "source": [
    "#bai 13\n",
    "a,b= map(int,input().split())\n",
    "print(a*b%10)"
   ]
  },
  {
   "cell_type": "code",
   "execution_count": 31,
   "id": "c5c2a75e-9286-473b-aa6a-02525e5a421f",
   "metadata": {},
   "outputs": [
    {
     "name": "stdin",
     "output_type": "stream",
     "text": [
      " 4 5\n"
     ]
    },
    {
     "name": "stdout",
     "output_type": "stream",
     "text": [
      "5 4\n"
     ]
    }
   ],
   "source": [
    "#bai 14\n",
    "a,b =map(int,input().split())\n",
    "a,b=b,a\n",
    "print(a,b)"
   ]
  },
  {
   "cell_type": "code",
   "execution_count": 33,
   "id": "766698c2-c030-44f8-8752-044c55587d99",
   "metadata": {},
   "outputs": [
    {
     "name": "stdin",
     "output_type": "stream",
     "text": [
      " 2\n"
     ]
    },
    {
     "name": "stdout",
     "output_type": "stream",
     "text": [
      "19\n"
     ]
    }
   ],
   "source": [
    "#bai 15\n",
    "n=int(input())\n",
    "print(3*n*n+3*n+1)"
   ]
  },
  {
   "cell_type": "code",
   "execution_count": 34,
   "id": "a049d7f7-c5e4-4687-8a2f-97570f29ca09",
   "metadata": {},
   "outputs": [
    {
     "name": "stdout",
     "output_type": "stream",
     "text": [
      "Spring\n",
      "Summer\n",
      "Autumn\n",
      "Winter\n"
     ]
    }
   ],
   "source": [
    "#bai 16\n",
    "print(\n",
    "'''Spring\n",
    "Summer\n",
    "Autumn\n",
    "Winter'''\n",
    ")"
   ]
  },
  {
   "cell_type": "code",
   "execution_count": 36,
   "id": "bf67d144-a0be-42e3-85ab-dda9901d55c4",
   "metadata": {},
   "outputs": [
    {
     "name": "stdout",
     "output_type": "stream",
     "text": [
      " * \n",
      " *** \n",
      " ***** \n"
     ]
    }
   ],
   "source": [
    "#bai 17\n",
    "print(\" * \")\n",
    "print(\" *** \")\n",
    "print(\" ***** \")"
   ]
  },
  {
   "cell_type": "code",
   "execution_count": 35,
   "id": "527036b7-c3e5-49ae-883b-51adb7e62257",
   "metadata": {},
   "outputs": [
    {
     "name": "stdout",
     "output_type": "stream",
     "text": [
      "\n",
      "###  # #   ### ###\n",
      " #   #  #   #   #\n",
      " #   #   #  #   #\n",
      " #   #  #   #   #\n",
      " #   # #    #   #\n",
      "\n"
     ]
    }
   ],
   "source": [
    "#bai 18\n",
    "print(\n",
    "'''\n",
    "###  # #   ### ###\n",
    " #   #  #   #   #\n",
    " #   #   #  #   #\n",
    " #   #  #   #   #\n",
    " #   # #    #   #\n",
    "'''    \n",
    ")"
   ]
  },
  {
   "cell_type": "code",
   "execution_count": 37,
   "id": "d72e1a29-470f-4dfb-b454-96590b52f563",
   "metadata": {},
   "outputs": [
    {
     "name": "stdout",
     "output_type": "stream",
     "text": [
      "\n",
      "Monday\n",
      "Tuesday\n",
      "Wednesday\n",
      "Thursday\n",
      "Friday\n",
      "Saturday\n",
      "Sunday\n",
      "\n"
     ]
    }
   ],
   "source": [
    "#bai 19\n",
    "# W2A19\n",
    "print(\n",
    "'''\n",
    "Monday\n",
    "Tuesday\n",
    "Wednesday\n",
    "Thursday\n",
    "Friday\n",
    "Saturday\n",
    "Sunday\n",
    "''')"
   ]
  },
  {
   "cell_type": "code",
   "execution_count": null,
   "id": "eec1bab7-e211-4ad7-99df-0eafe904e139",
   "metadata": {},
   "outputs": [],
   "source": [
    "#bai 20\n",
    "print(\n",
    "'''\n",
    "January\n",
    "February\n",
    "March\n",
    "April\n",
    "May\n",
    "June\n",
    "July\n",
    "August\n",
    "September\n",
    "October\n",
    "November\n",
    "December\n",
    "''')\n"
   ]
  },
  {
   "cell_type": "code",
   "execution_count": 38,
   "id": "114f3223-4938-4aae-acee-b1255b6a2af0",
   "metadata": {},
   "outputs": [
    {
     "name": "stdout",
     "output_type": "stream",
     "text": [
      "Hello world\n",
      "Hello world\n",
      "Hello world\n",
      "Hello world\n",
      "Hello world\n",
      "Hello world\n",
      "Hello world\n",
      "Hello world\n",
      "Hello world\n",
      "Hello world\n",
      "\n"
     ]
    }
   ],
   "source": [
    "#bai 21\n",
    "print(\"Hello world\\n\"*10)"
   ]
  }
 ],
 "metadata": {
  "kernelspec": {
   "display_name": "Python 3 (ipykernel)",
   "language": "python",
   "name": "python3"
  },
  "language_info": {
   "codemirror_mode": {
    "name": "ipython",
    "version": 3
   },
   "file_extension": ".py",
   "mimetype": "text/x-python",
   "name": "python",
   "nbconvert_exporter": "python",
   "pygments_lexer": "ipython3",
   "version": "3.13.7"
  }
 },
 "nbformat": 4,
 "nbformat_minor": 5
}
