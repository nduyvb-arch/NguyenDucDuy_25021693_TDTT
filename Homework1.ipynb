{
 "cells": [
  {
   "cell_type": "code",
   "execution_count": 13,
   "id": "8aa22a1f-9fc9-49d9-bfc7-ea7382465a8f",
   "metadata": {},
   "outputs": [
    {
     "name": "stdin",
     "output_type": "stream",
     "text": [
      " 2\n"
     ]
    },
    {
     "name": "stdout",
     "output_type": "stream",
     "text": [
      "4\n"
     ]
    }
   ],
   "source": [
    "#bai 1\n",
    "n = int(input())\n",
    "print (2*n)"
   ]
  },
  {
   "cell_type": "code",
   "execution_count": 15,
   "id": "63a0a23c-4f2a-4c6c-82bd-36ca6b4ed069",
   "metadata": {},
   "outputs": [
    {
     "name": "stdin",
     "output_type": "stream",
     "text": [
      " 4 5\n"
     ]
    },
    {
     "name": "stdout",
     "output_type": "stream",
     "text": [
      "7.44\n"
     ]
    }
   ],
   "source": [
    "#bai 2\n",
    "a, b = map(int,input().split())\n",
    "sround = 3.14*a*a/4\n",
    "print(f\"{a*b-sround:.2f}\")\n",
    "\n"
   ]
  },
  {
   "cell_type": "code",
   "execution_count": 2,
   "id": "00ae847d-50a7-46d0-bc9f-ee166fe35a89",
   "metadata": {},
   "outputs": [
    {
     "name": "stdin",
     "output_type": "stream",
     "text": [
      " C\n"
     ]
    },
    {
     "name": "stdout",
     "output_type": "stream",
     "text": [
      "c\n"
     ]
    }
   ],
   "source": [
    "#bai 3\n",
    "c = input()\n",
    "if c.isupper() :\n",
    "    print(c.lower())\n",
    "else:\n",
    "    print(c.upper())\n"
   ]
  },
  {
   "cell_type": "code",
   "execution_count": 9,
   "id": "c741c0fc-4443-475b-9292-7591c76b879d",
   "metadata": {},
   "outputs": [
    {
     "name": "stdin",
     "output_type": "stream",
     "text": [
      " .\n"
     ]
    },
    {
     "name": "stdout",
     "output_type": "stream",
     "text": [
      ". khong la ki tu alphabet\n"
     ]
    }
   ],
   "source": [
    "#bai 4\n",
    "c = input()\n",
    "if c.isalpha():\n",
    "    print(f\"{c} la ki tu alphabet\")\n",
    "else :\n",
    "     print(f\"{c} khong la ki tu alphabet\")"
   ]
  },
  {
   "cell_type": "code",
   "execution_count": 12,
   "id": "22250d93-495e-4b03-a7dc-e812691cebab",
   "metadata": {},
   "outputs": [
    {
     "name": "stdin",
     "output_type": "stream",
     "text": [
      " Y\n"
     ]
    },
    {
     "name": "stdout",
     "output_type": "stream",
     "text": [
      "x\n"
     ]
    }
   ],
   "source": [
    "#bai 5\n",
    "c = input()\n",
    "if c=='A':\n",
    "    print(f\"{c} la truong hop dac biet\")\n",
    "else:\n",
    "    print(chr(ord(c.lower())-1))\n",
    "    "
   ]
  },
  {
   "cell_type": "code",
   "execution_count": 17,
   "id": "2396afb5-1caa-4dd8-b152-3f70ecfd166e",
   "metadata": {},
   "outputs": [
    {
     "name": "stdin",
     "output_type": "stream",
     "text": [
      " 1 2 8\n"
     ]
    },
    {
     "name": "stdout",
     "output_type": "stream",
     "text": [
      "Khong phai 3 canh cua tam giac\n"
     ]
    }
   ],
   "source": [
    "#bai 6\n",
    "a, b, c = map(int,input().split())\n",
    "if a>0 and b>0 and c>0 and a+b>c and a+c>b and b+c>a:\n",
    "    p=(a+b+c)/2\n",
    "    s=p*(p-a)*(p-b)*(p-c)\n",
    "    print(f\"{s**0.5:.1f}\")\n",
    "else : \n",
    "    print (\"Khong phai 3 canh cua tam giac\")"
   ]
  },
  {
   "cell_type": "code",
   "execution_count": 20,
   "id": "7ff1ab00-4721-49ad-a12f-72410c1fbcdd",
   "metadata": {},
   "outputs": [
    {
     "name": "stdin",
     "output_type": "stream",
     "text": [
      " emyeupython\n"
     ]
    },
    {
     "name": "stdout",
     "output_type": "stream",
     "text": [
      "u h\n"
     ]
    }
   ],
   "source": [
    "#bai 7\n",
    "s = input()\n",
    "print(s[4],s[8])"
   ]
  },
  {
   "cell_type": "code",
   "execution_count": 30,
   "id": "6ccbff7e-a876-4e1f-8da4-e0b547984995",
   "metadata": {},
   "outputs": [
    {
     "name": "stdin",
     "output_type": "stream",
     "text": [
      "Ten chu ho: duy \n",
      "Chi so thang truoc: 2000\n",
      "Chi so thang nay: 2586\n"
     ]
    },
    {
     "name": "stdout",
     "output_type": "stream",
     "text": [
      "Ho va ten: duy \n",
      "Tien phai tra la: 1855504\n"
     ]
    }
   ],
   "source": [
    "#bai 8\n",
    "name = input(\"Ten chu ho:\")\n",
    "tt = int(input(\"Chi so thang truoc:\"))\n",
    "tn = int(input(\"Chi so thang nay:\"))\n",
    "t = tn- tt \n",
    "cost = min(50,t)*1984\n",
    "if(t>50):\n",
    "    cost += min(50,t-50)*2050\n",
    "if(t>100):\n",
    "    cost += min(100,t-100)*2380\n",
    "if(t>200):\n",
    "    cost += min(100,t-200)*2998\n",
    "if(t>300):\n",
    "    cost += min(100,t-300)*3350\n",
    "if(t>400) :\n",
    "    cost += (t-400)*3460\n",
    "print(\"Ho va ten:\",name)\n",
    "print (\"Tien phai tra la:\",cost*108//100)"
   ]
  },
  {
   "cell_type": "code",
   "execution_count": 12,
   "id": "d68a282b-8df5-4809-aaed-b9aa8c8fefae",
   "metadata": {},
   "outputs": [
    {
     "name": "stdin",
     "output_type": "stream",
     "text": [
      " 31 12 2025\n"
     ]
    },
    {
     "name": "stdout",
     "output_type": "stream",
     "text": [
      "Valid\n"
     ]
    }
   ],
   "source": [
    "d, m, y = map(int,input().split())\n",
    "if y<1900 or y>2100 or d<1 or d>31 or m<1 or m >12: \n",
    "    print (\"Invalid\")\n",
    "else:\n",
    "         if m==4 or m==6 or m==9 or m==11:\n",
    "             if d==31 :\n",
    "                 print (\"Invalid\")\n",
    "             else:\n",
    "                 print (\"Valid\")    \n",
    "         elif m==2:\n",
    "                 if d>29 and y%4==0 or d>28 and y%4!=0:\n",
    "                     print(\"Invalid\")\n",
    "                 else: print (\"Valid\")\n",
    "         else :\n",
    "             print (\"Valid\")\n",
    "    "
   ]
  }
 ],
 "metadata": {
  "kernelspec": {
   "display_name": "Python 3 (ipykernel)",
   "language": "python",
   "name": "python3"
  },
  "language_info": {
   "codemirror_mode": {
    "name": "ipython",
    "version": 3
   },
   "file_extension": ".py",
   "mimetype": "text/x-python",
   "name": "python",
   "nbconvert_exporter": "python",
   "pygments_lexer": "ipython3",
   "version": "3.13.7"
  }
 },
 "nbformat": 4,
 "nbformat_minor": 5
}
